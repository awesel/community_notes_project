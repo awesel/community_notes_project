{
 "cells": [
  {
   "cell_type": "code",
   "execution_count": 1,
   "metadata": {},
   "outputs": [],
   "source": [
    "import pandas as pd\n",
    "import csv"
   ]
  },
  {
   "cell_type": "code",
   "execution_count": 4,
   "metadata": {},
   "outputs": [],
   "source": [
    "df = pd.read_csv('/Users/andrew/Desktop/community_notes_2/processed_scrape.csv')\n",
    "\n",
    "df['has_note'] = df['note_text'].apply(lambda x: not pd.isnull(x) and x.strip() != '')\n",
    "\n",
    "df.to_csv('/Users/andrew/Desktop/community_notes_2/processed_scrape.csv', index=False)"
   ]
  },
  {
   "cell_type": "code",
   "execution_count": 8,
   "metadata": {},
   "outputs": [
    {
     "name": "stderr",
     "output_type": "stream",
     "text": [
      "/var/folders/nk/5zcc814x561cbxxgrncjyscw0000gn/T/ipykernel_21371/3267469243.py:3: DtypeWarning: Columns (5,6,7) have mixed types. Specify dtype option on import or set low_memory=False.\n",
      "  community_notes_m = pd.read_csv(\"/Users/andrew/Desktop/community_notes_2/dataset/community_notes_m.csv\")\n"
     ]
    }
   ],
   "source": [
    "# Read the CSV files into pandas DataFrames\n",
    "processed_scrape = pd.read_csv(\"/Users/andrew/Desktop/community_notes_2/processed_scrape.csv\")\n",
    "community_notes_m = pd.read_csv(\"/Users/andrew/Desktop/community_notes_2/dataset/community_notes_m.csv\")\n",
    "\n",
    "# Create an empty column in processed_scrape called 'all_notes'\n",
    "processed_scrape['all_notes'] = ''\n",
    "\n",
    "# Iterate through each row in processed_scrape\n",
    "for index, row in processed_scrape.iterrows():\n",
    "    tweet_id = row['tweet_id']\n",
    "    \n",
    "    # Filter community_notes_m DataFrame to get all rows with the same tweet_id\n",
    "    matching_rows = community_notes_m[community_notes_m['tweet_id'] == tweet_id]\n",
    "    \n",
    "    # Create a list to store summaries\n",
    "    summaries = []\n",
    "    \n",
    "    # Loop through the matching rows and store their summary\n",
    "    for _, match_row in matching_rows.iterrows():\n",
    "        summaries.append(str(match_row['summary']))\n",
    "        \n",
    "    # Join the list of summaries with '|||' and update the 'all_notes' column\n",
    "    processed_scrape.at[index, 'all_notes'] = '|||'.join(summaries)\n",
    "\n",
    "# Write the updated DataFrame back to a new CSV file\n",
    "processed_scrape.to_csv(\"/Users/andrew/Desktop/community_notes_2/processed_scrape.csv\", index=False)\n"
   ]
  },
  {
   "cell_type": "code",
   "execution_count": 10,
   "metadata": {},
   "outputs": [],
   "source": [
    "processed_scrape['num_notes'] = processed_scrape['all_notes'].apply(lambda x: 1 + x.count('|||'))\n",
    "\n",
    "processed_scrape.to_csv(\"/Users/andrew/Desktop/community_notes_2/processed_scrape.csv\", index=False)\n"
   ]
  },
  {
   "cell_type": "code",
   "execution_count": 12,
   "metadata": {},
   "outputs": [
    {
     "name": "stderr",
     "output_type": "stream",
     "text": [
      "/var/folders/nk/5zcc814x561cbxxgrncjyscw0000gn/T/ipykernel_21371/16789203.py:2: DtypeWarning: Columns (5,6,7) have mixed types. Specify dtype option on import or set low_memory=False.\n",
      "  community_notes_m = pd.read_csv(\"/Users/andrew/Desktop/community_notes_2/dataset/community_notes_m.csv\")\n"
     ]
    }
   ],
   "source": [
    "processed_scrape = pd.read_csv(\"/Users/andrew/Desktop/community_notes_2/processed_scrape.csv\")\n",
    "community_notes_m = pd.read_csv(\"/Users/andrew/Desktop/community_notes_2/dataset/community_notes_m.csv\")\n",
    "# Initialize an empty list to store the note_ids\n",
    "note_ids_list = []\n",
    "\n",
    "# Loop through each row in processed_scrape\n",
    "for index, row in processed_scrape.iterrows():\n",
    "    tweet_id = row['tweet_id']\n",
    "    \n",
    "    # Find all rows in community_notes_m that have the same tweet_id\n",
    "    matching_rows = community_notes_m[community_notes_m['tweet_id'] == tweet_id]\n",
    "    \n",
    "    # Grab the 'noteId' from these rows and join them into a comma-separated string\n",
    "    note_ids = \",\".join(matching_rows['noteId'].astype(str).tolist())\n",
    "    \n",
    "    # Append to list\n",
    "    note_ids_list.append(note_ids)\n",
    "\n",
    "# Add the note_ids as a new column to processed_scrape\n",
    "processed_scrape['note_ids'] = note_ids_list\n",
    "\n",
    "# Save the updated DataFrame back to a new CSV file\n",
    "processed_scrape.to_csv(\"processed_scrape.csv\", index=False)"
   ]
  }
 ],
 "metadata": {
  "kernelspec": {
   "display_name": "Python 3 (ipykernel)",
   "language": "python",
   "name": "python3"
  },
  "language_info": {
   "codemirror_mode": {
    "name": "ipython",
    "version": 3
   },
   "file_extension": ".py",
   "mimetype": "text/x-python",
   "name": "python",
   "nbconvert_exporter": "python",
   "pygments_lexer": "ipython3",
   "version": "3.9.13"
  },
  "orig_nbformat": 4
 },
 "nbformat": 4,
 "nbformat_minor": 2
}
